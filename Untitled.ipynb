{
 "cells": [
  {
   "cell_type": "code",
   "execution_count": null,
   "id": "24c154fd-bc6d-4513-b4aa-74cd9cc71935",
   "metadata": {},
   "outputs": [],
   "source": [
    "Introduction"
   ]
  }
 ],
 "metadata": {
  "kernelspec": {
   "display_name": "R",
   "language": "R",
   "name": "ir"
  },
  "language_info": {
   "codemirror_mode": "r",
   "file_extension": ".r",
   "mimetype": "text/x-r-source",
   "name": "R",
   "pygments_lexer": "r",
   "version": "4.1.3"
  }
 },
 "nbformat": 4,
 "nbformat_minor": 5
}
